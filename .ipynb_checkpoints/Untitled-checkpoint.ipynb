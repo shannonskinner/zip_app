{
 "cells": [
  {
   "cell_type": "code",
   "execution_count": 9,
   "metadata": {},
   "outputs": [],
   "source": [
    "import pandas as pd\n",
    "import numpy as np\n",
    "from urllib.request import Request, urlopen\n",
    "#from fake_useragent import UserAgent\n",
    "import urllib.request\n",
    "import json\n",
    "import io"
   ]
  },
  {
   "cell_type": "code",
   "execution_count": 11,
   "metadata": {},
   "outputs": [],
   "source": [
    "zipcode = '11211'"
   ]
  },
  {
   "cell_type": "code",
   "execution_count": 12,
   "metadata": {},
   "outputs": [],
   "source": [
    "input_zip=zipcode\n",
    "header = {'User-Agent': 'Mozilla/5.0 (Macintosh; Intel Mac OS X 10_14_1) AppleWebKit/537.36 (KHTML, like Gecko) Chrome/70.0.3538.110 Safari/537.36'}"
   ]
  },
  {
   "cell_type": "code",
   "execution_count": 13,
   "metadata": {},
   "outputs": [],
   "source": [
    "zip_url = 'https://www2.census.gov/geo/docs/maps-data/data/rel/zcta_county_rel_10.txt'  \n",
    "zip_req = Request (url=zip_url, headers=header)\n",
    "zip_html = urlopen(zip_req).read()\n",
    "zips = pd.read_csv(io.StringIO(zip_html.decode('utf-8')),  dtype={'ZCTA5': str, 'STATE': str, 'COUNTY':str, 'GEOID':str}) #read census data for zipcodes & state / county"
   ]
  },
  {
   "cell_type": "code",
   "execution_count": 16,
   "metadata": {},
   "outputs": [
    {
     "data": {
      "text/plain": [
       "<urllib.request.Request at 0x116cfd240>"
      ]
     },
     "execution_count": 16,
     "metadata": {},
     "output_type": "execute_result"
    }
   ],
   "source": [
    "zip_req"
   ]
  },
  {
   "cell_type": "code",
   "execution_count": 17,
   "metadata": {},
   "outputs": [],
   "source": [
    "count_url = 'https://www2.census.gov/geo/docs/reference/codes/files/national_county.txt' \n",
    "count_req = Request(url=count_url, headers=header)\n",
    "count_html = urlopen(count_req).read()\n",
    "counties = pd.read_csv(io.StringIO(count_html.decode('utf-8')), header=None, names=['STATE','STATEFP', 'COUNTYFP', 'COUNTYNAME', 'CLASSFP'], dtype={'STATEFP': str, 'COUNTYFP':str, 'GEOID':str}) #read list of counties"
   ]
  },
  {
   "cell_type": "code",
   "execution_count": 19,
   "metadata": {},
   "outputs": [],
   "source": [
    "place_url = 'https://www2.census.gov/geo/docs/maps-data/data/rel/zcta_place_rel_10.txt'\n",
    "place_req = Request(url=place_url, headers=header)\n",
    "place_html = urlopen(place_req).read()\n",
    "place_zip = pd.read_csv(io.StringIO(place_html.decode('utf-8')), dtype={'ZCTA5': str, 'STATE': str, 'PLACE':str, 'GEOID':str})"
   ]
  },
  {
   "cell_type": "code",
   "execution_count": 21,
   "metadata": {},
   "outputs": [],
   "source": [
    "places_url = 'https://www2.census.gov/geo/docs/reference/codes/files/national_places.txt'\n",
    "places_req = Request(url=places_url, headers=header)\n",
    "places_html = urlopen(places_req).read()\n",
    "places = pd.read_csv('https://www2.census.gov/geo/docs/reference/codes/files/national_places.txt',\n",
    "                     encoding='latin-1', sep='|', \n",
    "                     header=0, names=['STATE','STATEFP', 'PLACEFP', 'PLACENAME', 'TYPE', 'FUNCSTAT', 'COUNTY'], \n",
    "                     dtype={'STATEFP': str, 'PLACEFP':str})#import places list\n",
    "places['PLACE_NAME'] = places['PLACENAME'].str.rsplit(' ', n=1, expand=True)[0]\n",
    "places['PLACE_TYPE'] = places['PLACENAME'].str.rsplit(' ', n=1, expand=True)[1]"
   ]
  },
  {
   "cell_type": "code",
   "execution_count": 23,
   "metadata": {},
   "outputs": [],
   "source": [
    "counties['GEOID'] = counties.STATEFP.map(str)+counties.COUNTYFP.map(str)\n",
    "counties = counties[['STATE', 'GEOID', 'STATEFP', 'COUNTYFP', 'COUNTYNAME', 'CLASSFP']]"
   ]
  },
  {
   "cell_type": "code",
   "execution_count": 25,
   "metadata": {},
   "outputs": [],
   "source": [
    "input_geoid = str(zips[zips['ZCTA5']==input_zip]['GEOID'].values[0])\n",
    "county_output = counties.COUNTYNAME[counties.GEOID==str(zips[zips['ZCTA5']==input_zip]['GEOID'].values[0])].values[0]\n",
    "state_output = counties.STATE[counties.GEOID==str(zips[zips['ZCTA5']==input_zip]['GEOID'].values[0])].values[0]\n",
    "place_id = place_zip[place_zip['ZCTA5']==zipcode]['PLACE'].values[0]\n",
    "city_output = places[(places['PLACEFP']==place_id)& (places['STATE']==state_output)]['PLACE_NAME'].values[0]\n",
    "place_type = places[(places['PLACEFP']==place_id) & (places['STATE']==state_output)]['PLACE_TYPE'].values[0]"
   ]
  },
  {
   "cell_type": "code",
   "execution_count": 26,
   "metadata": {},
   "outputs": [
    {
     "data": {
      "text/plain": [
       "'36047'"
      ]
     },
     "execution_count": 26,
     "metadata": {},
     "output_type": "execute_result"
    }
   ],
   "source": [
    "input_geoid"
   ]
  },
  {
   "cell_type": "code",
   "execution_count": 6,
   "metadata": {},
   "outputs": [],
   "source": [
    "\n",
    "\n",
    "    \n",
    "\n",
    "    \n",
    "    \n",
    "    \n",
    "    \n",
    "    \n",
    "\n",
    "    \n",
    "output = [{'zipcode': zipcode, 'county_output': county_output, 'state_output': state_output, 'city_output': city_output, 'place_type': place_type}]\n",
    "with open('static/output.json', 'w') as f:\n",
    "    json.dump(output, f)"
   ]
  },
  {
   "cell_type": "code",
   "execution_count": 7,
   "metadata": {},
   "outputs": [
    {
     "data": {
      "text/plain": [
       "'cb318fba548b39b568861b5465c393e2d2ee3591'"
      ]
     },
     "execution_count": 7,
     "metadata": {},
     "output_type": "execute_result"
    }
   ],
   "source": [
    "census_key"
   ]
  },
  {
   "cell_type": "code",
   "execution_count": 8,
   "metadata": {},
   "outputs": [],
   "source": [
    "base = 'http://api.census.gov/data/2015/acs5'"
   ]
  },
  {
   "cell_type": "code",
   "execution_count": null,
   "metadata": {},
   "outputs": [],
   "source": []
  }
 ],
 "metadata": {
  "kernelspec": {
   "display_name": "Python 3",
   "language": "python",
   "name": "python3"
  },
  "language_info": {
   "codemirror_mode": {
    "name": "ipython",
    "version": 3
   },
   "file_extension": ".py",
   "mimetype": "text/x-python",
   "name": "python",
   "nbconvert_exporter": "python",
   "pygments_lexer": "ipython3",
   "version": "3.7.0"
  }
 },
 "nbformat": 4,
 "nbformat_minor": 2
}
